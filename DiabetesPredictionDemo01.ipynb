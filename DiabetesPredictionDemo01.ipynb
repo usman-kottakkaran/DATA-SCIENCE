{
 "cells": [
  {
   "cell_type": "markdown",
   "id": "270b3f08",
   "metadata": {
    "papermill": {
     "duration": 0.017078,
     "end_time": "2022-02-17T21:39:45.780279",
     "exception": false,
     "start_time": "2022-02-17T21:39:45.763201",
     "status": "completed"
    },
    "tags": []
   },
   "source": [
    "# Example Model - Simple Neural Network - MLPClassifier\n",
    "To get the ball rolling for others, I'll show a simple neural network model built on the balanced 50-50 dataset.\n",
    "* MLPClassifier Documentation: https://scikit-learn.org/stable/modules/generated/sklearn.neural_network.MLPClassifier.html"
   ]
  },
  {
   "cell_type": "markdown",
   "id": "7907f993",
   "metadata": {
    "papermill": {
     "duration": 0.015024,
     "end_time": "2022-02-17T21:39:45.811555",
     "exception": false,
     "start_time": "2022-02-17T21:39:45.796531",
     "status": "completed"
    },
    "tags": []
   },
   "source": [
    "## 1. Get the data"
   ]
  },
  {
   "cell_type": "code",
   "execution_count": 3,
   "id": "243ee144",
   "metadata": {
    "_cell_guid": "b1076dfc-b9ad-4769-8c92-a6c4dae69d19",
    "_uuid": "8f2839f25d086af736a60e9eeb907d3b93b6e0e5",
    "execution": {
     "iopub.execute_input": "2022-02-17T21:39:45.854004Z",
     "iopub.status.busy": "2022-02-17T21:39:45.853345Z",
     "iopub.status.idle": "2022-02-17T21:39:47.267623Z",
     "shell.execute_reply": "2022-02-17T21:39:47.268268Z",
     "shell.execute_reply.started": "2021-11-09T14:44:33.808515Z"
    },
    "papermill": {
     "duration": 1.441384,
     "end_time": "2022-02-17T21:39:47.268654",
     "exception": false,
     "start_time": "2022-02-17T21:39:45.827270",
     "status": "completed"
    },
    "tags": []
   },
   "outputs": [],
   "source": [
    "#load in packages\n",
    "import os\n",
    "import time\n",
    "import numpy as np\n",
    "import pandas as pd\n",
    "\n",
    "from sklearn.model_selection import train_test_split, cross_validate\n",
    "from sklearn.metrics import confusion_matrix, make_scorer\n",
    "\n",
    "#example models\n",
    "from sklearn.neural_network import MLPClassifier\n",
    "from sklearn.ensemble import RandomForestClassifier, GradientBoostingClassifier, AdaBoostClassifier\n",
    "from sklearn.linear_model import LogisticRegression\n",
    "from imblearn.ensemble import EasyEnsembleClassifier\n",
    "\n",
    "\n",
    "random_state=7"
   ]
  },
  {
   "cell_type": "code",
   "execution_count": 7,
   "id": "ee813bd6",
   "metadata": {
    "execution": {
     "iopub.execute_input": "2022-02-17T21:39:47.304966Z",
     "iopub.status.busy": "2022-02-17T21:39:47.304328Z",
     "iopub.status.idle": "2022-02-17T21:39:47.605234Z",
     "shell.execute_reply": "2022-02-17T21:39:47.605753Z",
     "shell.execute_reply.started": "2021-11-09T14:44:33.960178Z"
    },
    "papermill": {
     "duration": 0.321364,
     "end_time": "2022-02-17T21:39:47.605979",
     "exception": false,
     "start_time": "2022-02-17T21:39:47.284615",
     "status": "completed"
    },
    "tags": []
   },
   "outputs": [],
   "source": [
    "#read in the 5050 balanced dataset. \n",
    "#This is comparing 0 as no diabetes to 1 with prediabetes and diabetes + with equal number of each class in the target variable diabetes_binary\n",
    "df = pd.read_csv(r'/home/exam1/Desktop/1/diabetes_binary_5050split_health_indicators_BRFSS2015.csv')"
   ]
  },
  {
   "cell_type": "code",
   "execution_count": 3,
   "id": "67fcb2d2",
   "metadata": {
    "execution": {
     "iopub.execute_input": "2022-02-17T21:39:47.640192Z",
     "iopub.status.busy": "2022-02-17T21:39:47.639472Z",
     "iopub.status.idle": "2022-02-17T21:39:47.680687Z",
     "shell.execute_reply": "2022-02-17T21:39:47.681211Z",
     "shell.execute_reply.started": "2021-11-09T14:44:34.159077Z"
    },
    "papermill": {
     "duration": 0.060287,
     "end_time": "2022-02-17T21:39:47.681413",
     "exception": false,
     "start_time": "2022-02-17T21:39:47.621126",
     "status": "completed"
    },
    "tags": []
   },
   "outputs": [
    {
     "data": {
      "text/html": [
       "<div>\n",
       "<style scoped>\n",
       "    .dataframe tbody tr th:only-of-type {\n",
       "        vertical-align: middle;\n",
       "    }\n",
       "\n",
       "    .dataframe tbody tr th {\n",
       "        vertical-align: top;\n",
       "    }\n",
       "\n",
       "    .dataframe thead th {\n",
       "        text-align: right;\n",
       "    }\n",
       "</style>\n",
       "<table border=\"1\" class=\"dataframe\">\n",
       "  <thead>\n",
       "    <tr style=\"text-align: right;\">\n",
       "      <th></th>\n",
       "      <th>Diabetes_binary</th>\n",
       "      <th>HighBP</th>\n",
       "      <th>HighChol</th>\n",
       "      <th>CholCheck</th>\n",
       "      <th>BMI</th>\n",
       "      <th>Smoker</th>\n",
       "      <th>Stroke</th>\n",
       "      <th>HeartDiseaseorAttack</th>\n",
       "      <th>PhysActivity</th>\n",
       "      <th>Fruits</th>\n",
       "      <th>Veggies</th>\n",
       "      <th>HvyAlcoholConsump</th>\n",
       "      <th>AnyHealthcare</th>\n",
       "      <th>NoDocbcCost</th>\n",
       "      <th>GenHlth</th>\n",
       "      <th>MentHlth</th>\n",
       "      <th>PhysHlth</th>\n",
       "      <th>DiffWalk</th>\n",
       "      <th>Sex</th>\n",
       "      <th>Age</th>\n",
       "      <th>Education</th>\n",
       "      <th>Income</th>\n",
       "    </tr>\n",
       "  </thead>\n",
       "  <tbody>\n",
       "    <tr>\n",
       "      <th>0</th>\n",
       "      <td>0.0</td>\n",
       "      <td>1.0</td>\n",
       "      <td>0.0</td>\n",
       "      <td>1.0</td>\n",
       "      <td>26.0</td>\n",
       "      <td>0.0</td>\n",
       "      <td>0.0</td>\n",
       "      <td>0.0</td>\n",
       "      <td>1.0</td>\n",
       "      <td>0.0</td>\n",
       "      <td>1.0</td>\n",
       "      <td>0.0</td>\n",
       "      <td>1.0</td>\n",
       "      <td>0.0</td>\n",
       "      <td>3.0</td>\n",
       "      <td>5.0</td>\n",
       "      <td>30.0</td>\n",
       "      <td>0.0</td>\n",
       "      <td>1.0</td>\n",
       "      <td>4.0</td>\n",
       "      <td>6.0</td>\n",
       "      <td>8.0</td>\n",
       "    </tr>\n",
       "    <tr>\n",
       "      <th>1</th>\n",
       "      <td>0.0</td>\n",
       "      <td>1.0</td>\n",
       "      <td>1.0</td>\n",
       "      <td>1.0</td>\n",
       "      <td>26.0</td>\n",
       "      <td>1.0</td>\n",
       "      <td>1.0</td>\n",
       "      <td>0.0</td>\n",
       "      <td>0.0</td>\n",
       "      <td>1.0</td>\n",
       "      <td>0.0</td>\n",
       "      <td>0.0</td>\n",
       "      <td>1.0</td>\n",
       "      <td>0.0</td>\n",
       "      <td>3.0</td>\n",
       "      <td>0.0</td>\n",
       "      <td>0.0</td>\n",
       "      <td>0.0</td>\n",
       "      <td>1.0</td>\n",
       "      <td>12.0</td>\n",
       "      <td>6.0</td>\n",
       "      <td>8.0</td>\n",
       "    </tr>\n",
       "    <tr>\n",
       "      <th>2</th>\n",
       "      <td>0.0</td>\n",
       "      <td>0.0</td>\n",
       "      <td>0.0</td>\n",
       "      <td>1.0</td>\n",
       "      <td>26.0</td>\n",
       "      <td>0.0</td>\n",
       "      <td>0.0</td>\n",
       "      <td>0.0</td>\n",
       "      <td>1.0</td>\n",
       "      <td>1.0</td>\n",
       "      <td>1.0</td>\n",
       "      <td>0.0</td>\n",
       "      <td>1.0</td>\n",
       "      <td>0.0</td>\n",
       "      <td>1.0</td>\n",
       "      <td>0.0</td>\n",
       "      <td>10.0</td>\n",
       "      <td>0.0</td>\n",
       "      <td>1.0</td>\n",
       "      <td>13.0</td>\n",
       "      <td>6.0</td>\n",
       "      <td>8.0</td>\n",
       "    </tr>\n",
       "    <tr>\n",
       "      <th>3</th>\n",
       "      <td>0.0</td>\n",
       "      <td>1.0</td>\n",
       "      <td>1.0</td>\n",
       "      <td>1.0</td>\n",
       "      <td>28.0</td>\n",
       "      <td>1.0</td>\n",
       "      <td>0.0</td>\n",
       "      <td>0.0</td>\n",
       "      <td>1.0</td>\n",
       "      <td>1.0</td>\n",
       "      <td>1.0</td>\n",
       "      <td>0.0</td>\n",
       "      <td>1.0</td>\n",
       "      <td>0.0</td>\n",
       "      <td>3.0</td>\n",
       "      <td>0.0</td>\n",
       "      <td>3.0</td>\n",
       "      <td>0.0</td>\n",
       "      <td>1.0</td>\n",
       "      <td>11.0</td>\n",
       "      <td>6.0</td>\n",
       "      <td>8.0</td>\n",
       "    </tr>\n",
       "    <tr>\n",
       "      <th>4</th>\n",
       "      <td>0.0</td>\n",
       "      <td>0.0</td>\n",
       "      <td>0.0</td>\n",
       "      <td>1.0</td>\n",
       "      <td>29.0</td>\n",
       "      <td>1.0</td>\n",
       "      <td>0.0</td>\n",
       "      <td>0.0</td>\n",
       "      <td>1.0</td>\n",
       "      <td>1.0</td>\n",
       "      <td>1.0</td>\n",
       "      <td>0.0</td>\n",
       "      <td>1.0</td>\n",
       "      <td>0.0</td>\n",
       "      <td>2.0</td>\n",
       "      <td>0.0</td>\n",
       "      <td>0.0</td>\n",
       "      <td>0.0</td>\n",
       "      <td>0.0</td>\n",
       "      <td>8.0</td>\n",
       "      <td>5.0</td>\n",
       "      <td>8.0</td>\n",
       "    </tr>\n",
       "  </tbody>\n",
       "</table>\n",
       "</div>"
      ],
      "text/plain": [
       "   Diabetes_binary  HighBP  HighChol  CholCheck   BMI  Smoker  Stroke  \\\n",
       "0              0.0     1.0       0.0        1.0  26.0     0.0     0.0   \n",
       "1              0.0     1.0       1.0        1.0  26.0     1.0     1.0   \n",
       "2              0.0     0.0       0.0        1.0  26.0     0.0     0.0   \n",
       "3              0.0     1.0       1.0        1.0  28.0     1.0     0.0   \n",
       "4              0.0     0.0       0.0        1.0  29.0     1.0     0.0   \n",
       "\n",
       "   HeartDiseaseorAttack  PhysActivity  Fruits  Veggies  HvyAlcoholConsump  \\\n",
       "0                   0.0           1.0     0.0      1.0                0.0   \n",
       "1                   0.0           0.0     1.0      0.0                0.0   \n",
       "2                   0.0           1.0     1.0      1.0                0.0   \n",
       "3                   0.0           1.0     1.0      1.0                0.0   \n",
       "4                   0.0           1.0     1.0      1.0                0.0   \n",
       "\n",
       "   AnyHealthcare  NoDocbcCost  GenHlth  MentHlth  PhysHlth  DiffWalk  Sex  \\\n",
       "0            1.0          0.0      3.0       5.0      30.0       0.0  1.0   \n",
       "1            1.0          0.0      3.0       0.0       0.0       0.0  1.0   \n",
       "2            1.0          0.0      1.0       0.0      10.0       0.0  1.0   \n",
       "3            1.0          0.0      3.0       0.0       3.0       0.0  1.0   \n",
       "4            1.0          0.0      2.0       0.0       0.0       0.0  0.0   \n",
       "\n",
       "    Age  Education  Income  \n",
       "0   4.0        6.0     8.0  \n",
       "1  12.0        6.0     8.0  \n",
       "2  13.0        6.0     8.0  \n",
       "3  11.0        6.0     8.0  \n",
       "4   8.0        5.0     8.0  "
      ]
     },
     "execution_count": 3,
     "metadata": {},
     "output_type": "execute_result"
    }
   ],
   "source": [
    "#show dataframe df\n",
    "pd.set_option('display.max_columns', 500)\n",
    "df.head()"
   ]
  },
  {
   "cell_type": "code",
   "execution_count": 8,
   "id": "5e575443",
   "metadata": {
    "execution": {
     "iopub.execute_input": "2022-02-17T21:39:47.719245Z",
     "iopub.status.busy": "2022-02-17T21:39:47.718551Z",
     "iopub.status.idle": "2022-02-17T21:39:47.721138Z",
     "shell.execute_reply": "2022-02-17T21:39:47.721701Z",
     "shell.execute_reply.started": "2021-11-09T14:44:34.268459Z"
    },
    "papermill": {
     "duration": 0.024501,
     "end_time": "2022-02-17T21:39:47.721913",
     "exception": false,
     "start_time": "2022-02-17T21:39:47.697412",
     "status": "completed"
    },
    "tags": []
   },
   "outputs": [
    {
     "data": {
      "text/plain": [
       "(70692, 22)"
      ]
     },
     "execution_count": 8,
     "metadata": {},
     "output_type": "execute_result"
    }
   ],
   "source": [
    "df.shape"
   ]
  },
  {
   "cell_type": "markdown",
   "id": "31b5866f",
   "metadata": {
    "papermill": {
     "duration": 0.015854,
     "end_time": "2022-02-17T21:39:47.753806",
     "exception": false,
     "start_time": "2022-02-17T21:39:47.737952",
     "status": "completed"
    },
    "tags": []
   },
   "source": [
    "## 2. Model building with no feature selection"
   ]
  },
  {
   "cell_type": "code",
   "execution_count": 9,
   "id": "466c1f59",
   "metadata": {
    "execution": {
     "iopub.execute_input": "2022-02-17T21:39:47.799229Z",
     "iopub.status.busy": "2022-02-17T21:39:47.798479Z",
     "iopub.status.idle": "2022-02-17T21:39:47.807927Z",
     "shell.execute_reply": "2022-02-17T21:39:47.808531Z",
     "shell.execute_reply.started": "2021-11-09T14:44:34.585388Z"
    },
    "papermill": {
     "duration": 0.038562,
     "end_time": "2022-02-17T21:39:47.808773",
     "exception": false,
     "start_time": "2022-02-17T21:39:47.770211",
     "status": "completed"
    },
    "tags": []
   },
   "outputs": [],
   "source": [
    "#select Diabetes_binary as target variable:\n",
    "y = df['Diabetes_binary']\n",
    "\n",
    "#select all the other columns minus Diabetes_binary as the feature variables:\n",
    "X = df.drop(['Diabetes_binary'],axis=1)"
   ]
  },
  {
   "cell_type": "markdown",
   "id": "1d0e5d8c",
   "metadata": {
    "papermill": {
     "duration": 0.015972,
     "end_time": "2022-02-17T21:39:47.841452",
     "exception": false,
     "start_time": "2022-02-17T21:39:47.825480",
     "status": "completed"
    },
    "tags": []
   },
   "source": [
    "* I'll show the cross_validate method on X and y, but you can use the usual train_test_split() below as well to fit your models."
   ]
  },
  {
   "cell_type": "code",
   "execution_count": 10,
   "id": "49556a97",
   "metadata": {
    "execution": {
     "iopub.execute_input": "2022-02-17T21:39:47.876832Z",
     "iopub.status.busy": "2022-02-17T21:39:47.876196Z",
     "iopub.status.idle": "2022-02-17T21:39:47.911339Z",
     "shell.execute_reply": "2022-02-17T21:39:47.911801Z",
     "shell.execute_reply.started": "2021-11-09T14:44:34.741951Z"
    },
    "papermill": {
     "duration": 0.054712,
     "end_time": "2022-02-17T21:39:47.911997",
     "exception": false,
     "start_time": "2022-02-17T21:39:47.857285",
     "status": "completed"
    },
    "tags": []
   },
   "outputs": [
    {
     "name": "stdout",
     "output_type": "stream",
     "text": [
      "Dimensions: \n",
      " x_train:(56553, 21) \n",
      " x_test(14139, 21) \n",
      " y_train(56553,) \n",
      " y_test(14139,)\n"
     ]
    }
   ],
   "source": [
    "#now make the train-test splits\n",
    "x_train, x_test, y_train, y_test = train_test_split(X, y, test_size = 0.2, random_state=random_state)\n",
    "print('Dimensions: \\n x_train:{} \\n x_test{} \\n y_train{} \\n y_test{}'.format(x_train.shape, x_test.shape, y_train.shape, y_test.shape))"
   ]
  },
  {
   "cell_type": "code",
   "execution_count": 11,
   "id": "e2eb1dff",
   "metadata": {
    "execution": {
     "iopub.execute_input": "2022-02-17T21:39:47.952204Z",
     "iopub.status.busy": "2022-02-17T21:39:47.951461Z",
     "iopub.status.idle": "2022-02-17T21:39:47.954111Z",
     "shell.execute_reply": "2022-02-17T21:39:47.954622Z",
     "shell.execute_reply.started": "2021-11-09T14:44:34.895068Z"
    },
    "papermill": {
     "duration": 0.026626,
     "end_time": "2022-02-17T21:39:47.954821",
     "exception": false,
     "start_time": "2022-02-17T21:39:47.928195",
     "status": "completed"
    },
    "tags": []
   },
   "outputs": [],
   "source": [
    "#create true negative, false positive, false negative, and true positive \n",
    "def tn(y_true, y_pred): return confusion_matrix(y_true, y_pred)[0, 0]\n",
    "def fp(y_true, y_pred): return confusion_matrix(y_true, y_pred)[0, 1]\n",
    "def fn(y_true, y_pred): return confusion_matrix(y_true, y_pred)[1, 0]\n",
    "def tp(y_true, y_pred): return confusion_matrix(y_true, y_pred)[1, 1]"
   ]
  },
  {
   "cell_type": "code",
   "execution_count": 12,
   "id": "3db9b80c",
   "metadata": {
    "execution": {
     "iopub.execute_input": "2022-02-17T21:39:47.991911Z",
     "iopub.status.busy": "2022-02-17T21:39:47.991298Z",
     "iopub.status.idle": "2022-02-17T21:39:47.995991Z",
     "shell.execute_reply": "2022-02-17T21:39:47.996553Z",
     "shell.execute_reply.started": "2021-11-09T14:44:34.986986Z"
    },
    "papermill": {
     "duration": 0.025101,
     "end_time": "2022-02-17T21:39:47.996722",
     "exception": false,
     "start_time": "2022-02-17T21:39:47.971621",
     "status": "completed"
    },
    "tags": []
   },
   "outputs": [],
   "source": [
    "#Setup classifier scorers\n",
    "scorers = {'Accuracy': 'accuracy', \n",
    "           'roc_auc': 'roc_auc', \n",
    "           'Sensitivity':'recall', \n",
    "           'precision':'precision',\n",
    "            'tp': make_scorer(tp), \n",
    "           'tn': make_scorer(tn),\n",
    "           'fp': make_scorer(fp), \n",
    "           'fn': make_scorer(fn)}   "
   ]
  },
  {
   "cell_type": "markdown",
   "id": "d575d9d0",
   "metadata": {
    "papermill": {
     "duration": 0.01576,
     "end_time": "2022-02-17T21:39:48.029210",
     "exception": false,
     "start_time": "2022-02-17T21:39:48.013450",
     "status": "completed"
    },
    "tags": []
   },
   "source": [
    "### 2.1 Cross validation Version doesn't need the train-test split you commonly use"
   ]
  },
  {
   "cell_type": "code",
   "execution_count": 13,
   "id": "f2fdf082",
   "metadata": {
    "execution": {
     "iopub.execute_input": "2022-02-17T21:39:48.065121Z",
     "iopub.status.busy": "2022-02-17T21:39:48.064472Z",
     "iopub.status.idle": "2022-02-17T21:41:03.626194Z",
     "shell.execute_reply": "2022-02-17T21:41:03.626732Z",
     "shell.execute_reply.started": "2021-11-09T14:44:35.677841Z"
    },
    "papermill": {
     "duration": 75.581676,
     "end_time": "2022-02-17T21:41:03.626936",
     "exception": false,
     "start_time": "2022-02-17T21:39:48.045260",
     "status": "completed"
    },
    "tags": []
   },
   "outputs": [
    {
     "name": "stdout",
     "output_type": "stream",
     "text": [
      "Simple Neural Network: MLPClassifier Acc: 0.75 (+/- 0.01)\n",
      "Simple Neural Network: MLPClassifier AUC: 0.83 (+/- 0.01)\n",
      "Simple Neural Network: MLPClassifier Recall: 0.80 (+/- 0.04)\n",
      "Simple Neural Network: MLPClassifier Precision: 0.73 (+/- 0.01)\n",
      "Simple Neural Network: MLPClassifier Sensitivity =  79.60000000000001 %\n",
      "Simple Neural Network: MLPClassifier Specificity =  70.8 %\n",
      "Simple Neural Network: MLPClassifier PPV =  73.2 %\n",
      "Simple Neural Network: MLPClassifier NPV =  77.60000000000001 %\n",
      "Runtime: 69.06988883018494\n"
     ]
    }
   ],
   "source": [
    "#change this name here to change the print name\n",
    "classifier_name = 'Simple Neural Network: MLPClassifier'\n",
    "\n",
    "start_ts = time.time()\n",
    "#try swapping out the classifier for a different one or changing the parameters\n",
    "clf = MLPClassifier(activation='logistic', solver='adam', alpha=0.0001, max_iter=1000, hidden_layer_sizes=(10,), random_state=random_state)\n",
    "scores = cross_validate(clf, X, y, scoring=scorers, cv=5)          \n",
    "\n",
    "Sensitivity = round(scores['test_tp'].mean() / (scores['test_tp'].mean() + scores['test_fn'].mean()),3)*100   #TP/(TP+FN) also recall\n",
    "Specificity = round(scores['test_tn'].mean() / (scores['test_tn'].mean() + scores['test_fp'].mean()),3)*100    #TN/(TN+FP)\n",
    "PPV = round(scores['test_tp'].mean() / (scores['test_tp'].mean() + scores['test_fp'].mean()),3)*100           #PPV = tp/(tp+fp) also precision\n",
    "NPV = round(scores['test_tn'].mean() / (scores['test_fn'].mean() + scores['test_tn'].mean()),3)*100           #TN(FN+TN)\n",
    "\n",
    "scores_Acc = scores['test_Accuracy']                                                                                                                                    \n",
    "print(f\"{classifier_name} Acc: %0.2f (+/- %0.2f)\" % (scores_Acc.mean(), scores_Acc.std() * 2))                                                                                                    \n",
    "scores_AUC = scores['test_roc_auc']                                                                     #Only works with binary classes, not multiclass                  \n",
    "print(f\"{classifier_name} AUC: %0.2f (+/- %0.2f)\" % (scores_AUC.mean(), scores_AUC.std() * 2))      \n",
    "scores_sensitivity = scores['test_Sensitivity']                                                                     #Only works with binary classes, not multiclass                  \n",
    "print(f\"{classifier_name} Recall: %0.2f (+/- %0.2f)\" % (scores_sensitivity.mean(), scores_sensitivity.std() * 2)) \n",
    "scores_precision = scores['test_precision']                                                                     #Only works with binary classes, not multiclass                  \n",
    "print(f\"{classifier_name} Precision: %0.2f (+/- %0.2f)\" % (scores_precision.mean(), scores_precision.std() * 2))                          \n",
    "print(f\"{classifier_name} Sensitivity = \", Sensitivity, \"%\")\n",
    "print(f\"{classifier_name} Specificity = \", Specificity, \"%\")\n",
    "print(f\"{classifier_name} PPV = \", PPV, \"%\")  \n",
    "print(f\"{classifier_name} NPV = \", NPV, \"%\")\n",
    "\n",
    "print(\"Runtime:\", time.time()-start_ts)"
   ]
  },
  {
   "cell_type": "markdown",
   "id": "3da4c22c",
   "metadata": {
    "papermill": {
     "duration": 0.016262,
     "end_time": "2022-02-17T21:41:03.659800",
     "exception": false,
     "start_time": "2022-02-17T21:41:03.643538",
     "status": "completed"
    },
    "tags": []
   },
   "source": [
    "So 75% accuracy is not terrible. It's a good start. What do the other metrics tell us?\n",
    "* **AUC is Area Under the Curve**\n",
    " * The Area Under the Curve (AUC) is the measure of the ability of a classifier to distinguish between classes and is used as a summary of the ROC curve. The higher the AUC, the better the performance of the model at distinguishing between the positive and negative classes.\n",
    " * 0.83 is a reasonably good score here. 83% of the time the model is correctly distinguishing between the positive and negative classes.\n",
    "* **Sensitivity/Recall**\n",
    " * Sensitivity refers to a test's ability to designate an individual with disease as positive. Sensitivity is the ability of a test to correctly classify an individual as ′diseased′.\n",
    " * Recall is another word often used to refer to this. Used often in context of precision/recall.\n",
    " * 0.80 (+/- 0.04) is decent. So about 4/5 of the time the model correctly classifies an individual as diseased. Not good for a clinical setting but good considering the features are all non-invasive measurements.\n",
    "* **Specificity**\n",
    " * Specificity is a test or model's ability to designate an individual who does not have a disease as negative. \n",
    " * So our model at 70.8% is actually a little worse at designating individuals who don't have disease at negative compared to correctly saying they do have the disease. Not a bad trade-off for public health awareness with an online tool that could drive individuals to see doctors.\n",
    "* **Precision/PPV**\n",
    " * The positive predictive value (PPV) tells you how likely it is for someone who tests positive (screen positive) to actually have the disease (true positive). In other words PPV tells you how sure you can be, when you have a positive result, that the person actually has the disease. Thus you know how good the test is at discriminating persons with disease from those without disease.\n",
    " * 73% isn't great, but it's better than randomly guessing. 3/4 of the time we can be confident the model is correctly giving someone a diabetes prediction that actually has diabetes. Not clinically good but may raise awareness. **Could also be that there are prediabetics that have not received a diagnosis yet in the dataset!**\n",
    "* **NPV**\n",
    " * Negative Predictive Value (NPV) represents the probability that a person does not have a disease or condition, given a negative test result. So, NPV is the proportion of individuals with negative test results who are correctly identified or diagnosed.\n",
    " * 77.6% is decent considering there may be prediabetics in the group and **part of the benefit of such a model is to alert people to their diabetes risk when they have not yet been diagnoses as diabetic or prediabetic!**\n"
   ]
  },
  {
   "cell_type": "markdown",
   "id": "bf809503",
   "metadata": {
    "papermill": {
     "duration": 0.016341,
     "end_time": "2022-02-17T21:41:03.692902",
     "exception": false,
     "start_time": "2022-02-17T21:41:03.676561",
     "status": "completed"
    },
    "tags": []
   },
   "source": [
    "### 3. Model Building with feature selection\n",
    "\n",
    "Let's rebuild the same model with 8 features research indicates are highly correlated with diabetes risk. This is manual feature selection. It was not done automatically using any sort of programmatic method:\n",
    "* Selected: 'HighBP', 'BMI', 'GenHlth', 'MentHlth', 'PhysHlth', 'Age', 'Education', 'Income'"
   ]
  },
  {
   "cell_type": "code",
   "execution_count": 14,
   "id": "f40644a2",
   "metadata": {
    "execution": {
     "iopub.execute_input": "2022-02-17T21:41:03.730684Z",
     "iopub.status.busy": "2022-02-17T21:41:03.729652Z",
     "iopub.status.idle": "2022-02-17T21:41:03.748502Z",
     "shell.execute_reply": "2022-02-17T21:41:03.747881Z",
     "shell.execute_reply.started": "2021-11-09T15:00:23.300835Z"
    },
    "papermill": {
     "duration": 0.039161,
     "end_time": "2022-02-17T21:41:03.748668",
     "exception": false,
     "start_time": "2022-02-17T21:41:03.709507",
     "status": "completed"
    },
    "tags": []
   },
   "outputs": [],
   "source": [
    "#select Diabetes_binary as target variable:\n",
    "y_feat = df['Diabetes_binary']\n",
    "\n",
    "#select all the other columns minus Diabetes_binary as the feature variables:\n",
    "X_feat = df.drop(['Diabetes_binary'],axis=1)\n",
    "X_feat = X_feat[['HighBP', 'BMI', 'GenHlth', 'MentHlth', 'PhysHlth', 'Age', 'Education', 'Income']]"
   ]
  },
  {
   "cell_type": "code",
   "execution_count": 15,
   "id": "3e667a35",
   "metadata": {
    "execution": {
     "iopub.execute_input": "2022-02-17T21:41:03.794182Z",
     "iopub.status.busy": "2022-02-17T21:41:03.793175Z",
     "iopub.status.idle": "2022-02-17T21:41:03.803332Z",
     "shell.execute_reply": "2022-02-17T21:41:03.803957Z",
     "shell.execute_reply.started": "2021-11-09T15:00:42.949084Z"
    },
    "papermill": {
     "duration": 0.038141,
     "end_time": "2022-02-17T21:41:03.804150",
     "exception": false,
     "start_time": "2022-02-17T21:41:03.766009",
     "status": "completed"
    },
    "tags": []
   },
   "outputs": [
    {
     "data": {
      "text/html": [
       "<div>\n",
       "<style scoped>\n",
       "    .dataframe tbody tr th:only-of-type {\n",
       "        vertical-align: middle;\n",
       "    }\n",
       "\n",
       "    .dataframe tbody tr th {\n",
       "        vertical-align: top;\n",
       "    }\n",
       "\n",
       "    .dataframe thead th {\n",
       "        text-align: right;\n",
       "    }\n",
       "</style>\n",
       "<table border=\"1\" class=\"dataframe\">\n",
       "  <thead>\n",
       "    <tr style=\"text-align: right;\">\n",
       "      <th></th>\n",
       "      <th>HighBP</th>\n",
       "      <th>BMI</th>\n",
       "      <th>GenHlth</th>\n",
       "      <th>MentHlth</th>\n",
       "      <th>PhysHlth</th>\n",
       "      <th>Age</th>\n",
       "      <th>Education</th>\n",
       "      <th>Income</th>\n",
       "    </tr>\n",
       "  </thead>\n",
       "  <tbody>\n",
       "    <tr>\n",
       "      <th>0</th>\n",
       "      <td>1.0</td>\n",
       "      <td>26.0</td>\n",
       "      <td>3.0</td>\n",
       "      <td>5.0</td>\n",
       "      <td>30.0</td>\n",
       "      <td>4.0</td>\n",
       "      <td>6.0</td>\n",
       "      <td>8.0</td>\n",
       "    </tr>\n",
       "    <tr>\n",
       "      <th>1</th>\n",
       "      <td>1.0</td>\n",
       "      <td>26.0</td>\n",
       "      <td>3.0</td>\n",
       "      <td>0.0</td>\n",
       "      <td>0.0</td>\n",
       "      <td>12.0</td>\n",
       "      <td>6.0</td>\n",
       "      <td>8.0</td>\n",
       "    </tr>\n",
       "    <tr>\n",
       "      <th>2</th>\n",
       "      <td>0.0</td>\n",
       "      <td>26.0</td>\n",
       "      <td>1.0</td>\n",
       "      <td>0.0</td>\n",
       "      <td>10.0</td>\n",
       "      <td>13.0</td>\n",
       "      <td>6.0</td>\n",
       "      <td>8.0</td>\n",
       "    </tr>\n",
       "    <tr>\n",
       "      <th>3</th>\n",
       "      <td>1.0</td>\n",
       "      <td>28.0</td>\n",
       "      <td>3.0</td>\n",
       "      <td>0.0</td>\n",
       "      <td>3.0</td>\n",
       "      <td>11.0</td>\n",
       "      <td>6.0</td>\n",
       "      <td>8.0</td>\n",
       "    </tr>\n",
       "    <tr>\n",
       "      <th>4</th>\n",
       "      <td>0.0</td>\n",
       "      <td>29.0</td>\n",
       "      <td>2.0</td>\n",
       "      <td>0.0</td>\n",
       "      <td>0.0</td>\n",
       "      <td>8.0</td>\n",
       "      <td>5.0</td>\n",
       "      <td>8.0</td>\n",
       "    </tr>\n",
       "  </tbody>\n",
       "</table>\n",
       "</div>"
      ],
      "text/plain": [
       "   HighBP   BMI  GenHlth  MentHlth  PhysHlth   Age  Education  Income\n",
       "0     1.0  26.0      3.0       5.0      30.0   4.0        6.0     8.0\n",
       "1     1.0  26.0      3.0       0.0       0.0  12.0        6.0     8.0\n",
       "2     0.0  26.0      1.0       0.0      10.0  13.0        6.0     8.0\n",
       "3     1.0  28.0      3.0       0.0       3.0  11.0        6.0     8.0\n",
       "4     0.0  29.0      2.0       0.0       0.0   8.0        5.0     8.0"
      ]
     },
     "execution_count": 15,
     "metadata": {},
     "output_type": "execute_result"
    }
   ],
   "source": [
    "#Show the selected features\n",
    "X_feat.head()"
   ]
  },
  {
   "cell_type": "code",
   "execution_count": 16,
   "id": "2c51b323",
   "metadata": {
    "execution": {
     "iopub.execute_input": "2022-02-17T21:41:03.842076Z",
     "iopub.status.busy": "2022-02-17T21:41:03.841090Z",
     "iopub.status.idle": "2022-02-17T21:41:54.844014Z",
     "shell.execute_reply": "2022-02-17T21:41:54.844607Z",
     "shell.execute_reply.started": "2021-11-09T15:12:45.507914Z"
    },
    "papermill": {
     "duration": 51.023799,
     "end_time": "2022-02-17T21:41:54.844829",
     "exception": false,
     "start_time": "2022-02-17T21:41:03.821030",
     "status": "completed"
    },
    "tags": []
   },
   "outputs": [
    {
     "name": "stdout",
     "output_type": "stream",
     "text": [
      "Simple Neural Network: MLPClassifier w/ Feature Selection: Acc: 0.74 (+/- 0.01)\n",
      "Simple Neural Network: MLPClassifier w/ Feature Selection: AUC: 0.82 (+/- 0.01)\n",
      "Simple Neural Network: MLPClassifier w/ Feature Selection: Recall: 0.78 (+/- 0.06)\n",
      "Simple Neural Network: MLPClassifier w/ Feature Selection: Precision: 0.73 (+/- 0.02)\n",
      "Simple Neural Network: MLPClassifier w/ Feature Selection: Sensitivity =  78.0 %\n",
      "Simple Neural Network: MLPClassifier w/ Feature Selection: Specificity =  70.5 %\n",
      "Simple Neural Network: MLPClassifier w/ Feature Selection: PPV =  72.5 %\n",
      "Simple Neural Network: MLPClassifier w/ Feature Selection: NPV =  76.2 %\n",
      "Runtime: 42.025094747543335\n"
     ]
    }
   ],
   "source": [
    "#change this name here to change the print name\n",
    "classifier_name = 'Simple Neural Network: MLPClassifier w/ Feature Selection:'\n",
    "\n",
    "start_ts = time.time()\n",
    "#Changed the X to X_feat and y to y_feat\n",
    "clf = MLPClassifier(activation='logistic', solver='adam', alpha=0.0001, max_iter=1000, hidden_layer_sizes=(10,), random_state=random_state)\n",
    "scores = cross_validate(clf, X_feat, y_feat, scoring=scorers, cv=5)          \n",
    "\n",
    "Sensitivity = round(scores['test_tp'].mean() / (scores['test_tp'].mean() + scores['test_fn'].mean()),3)*100   #TP/(TP+FN) also recall\n",
    "Specificity = round(scores['test_tn'].mean() / (scores['test_tn'].mean() + scores['test_fp'].mean()),3)*100    #TN/(TN+FP)\n",
    "PPV = round(scores['test_tp'].mean() / (scores['test_tp'].mean() + scores['test_fp'].mean()),3)*100           #PPV = tp/(tp+fp) also precision\n",
    "NPV = round(scores['test_tn'].mean() / (scores['test_fn'].mean() + scores['test_tn'].mean()),3)*100           #TN(FN+TN)\n",
    "\n",
    "scores_Acc = scores['test_Accuracy']                                                                                                                                    \n",
    "print(f\"{classifier_name} Acc: %0.2f (+/- %0.2f)\" % (scores_Acc.mean(), scores_Acc.std() * 2))                                                                                                    \n",
    "scores_AUC = scores['test_roc_auc']                                                                     #Only works with binary classes, not multiclass                  \n",
    "print(f\"{classifier_name} AUC: %0.2f (+/- %0.2f)\" % (scores_AUC.mean(), scores_AUC.std() * 2))      \n",
    "scores_sensitivity = scores['test_Sensitivity']                                                                     #Only works with binary classes, not multiclass                  \n",
    "print(f\"{classifier_name} Recall: %0.2f (+/- %0.2f)\" % (scores_sensitivity.mean(), scores_sensitivity.std() * 2)) \n",
    "scores_precision = scores['test_precision']                                                                     #Only works with binary classes, not multiclass                  \n",
    "print(f\"{classifier_name} Precision: %0.2f (+/- %0.2f)\" % (scores_precision.mean(), scores_precision.std() * 2))                          \n",
    "print(f\"{classifier_name} Sensitivity = \", Sensitivity, \"%\")\n",
    "print(f\"{classifier_name} Specificity = \", Specificity, \"%\")\n",
    "print(f\"{classifier_name} PPV = \", PPV, \"%\")  \n",
    "print(f\"{classifier_name} NPV = \", NPV, \"%\")\n",
    "\n",
    "print(\"Runtime:\", time.time()-start_ts)"
   ]
  },
  {
   "cell_type": "markdown",
   "id": "8a5e5ec5",
   "metadata": {
    "papermill": {
     "duration": 0.017154,
     "end_time": "2022-02-17T21:41:54.879380",
     "exception": false,
     "start_time": "2022-02-17T21:41:54.862226",
     "status": "completed"
    },
    "tags": []
   },
   "source": [
    "Cool! We got about the same metrics but used less features. This is more efficient! Try other feature selection methods and different models to improve the predictive power of this data. "
   ]
  }
 ],
 "metadata": {
  "kernelspec": {
   "display_name": "Python 3",
   "language": "python",
   "name": "python3"
  },
  "language_info": {
   "codemirror_mode": {
    "name": "ipython",
    "version": 3
   },
   "file_extension": ".py",
   "mimetype": "text/x-python",
   "name": "python",
   "nbconvert_exporter": "python",
   "pygments_lexer": "ipython3",
   "version": "3.8.8"
  },
  "papermill": {
   "default_parameters": {},
   "duration": 139.7178,
   "end_time": "2022-02-17T21:41:55.811027",
   "environment_variables": {},
   "exception": null,
   "input_path": "__notebook__.ipynb",
   "output_path": "__notebook__.ipynb",
   "parameters": {},
   "start_time": "2022-02-17T21:39:36.093227",
   "version": "2.3.3"
  }
 },
 "nbformat": 4,
 "nbformat_minor": 5
}
